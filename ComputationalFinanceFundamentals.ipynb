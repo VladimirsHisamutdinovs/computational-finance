{
  "nbformat": 4,
  "nbformat_minor": 0,
  "metadata": {
    "colab": {
      "name": "ComputationalFinanceFundamentals.ipynb",
      "provenance": [],
      "collapsed_sections": []
    },
    "kernelspec": {
      "name": "python3",
      "display_name": "Python 3"
    },
    "language_info": {
      "name": "python"
    }
  },
  "cells": [
    {
      "cell_type": "markdown",
      "metadata": {
        "id": "BpNwLi1kSgy8"
      },
      "source": [
        "# Computational Finance Fundamentals\n",
        "## Computing the expected returns and variances for a portfolio having N number of stocks.\n",
        "reference:  https://blog.quantinsti.com/portfolio-analysis-calculating-risk-returns/"
      ]
    },
    {
      "cell_type": "code",
      "metadata": {
        "id": "5nDK1wjoRFZJ"
      },
      "source": [
        "import pandas as pd\n",
        "import numpy as np\n",
        "import pandas_datareader.data as web\n",
        "import matplotlib.pyplot as plt"
      ],
      "execution_count": 1,
      "outputs": []
    },
    {
      "cell_type": "markdown",
      "metadata": {
        "id": "oq6JeCxBTQGD"
      },
      "source": [
        "Let ri be the expected return on the stock and rx be any return having a probability of px. The expected return, ri, can be computed using the below equation.\n",
        "\n",
        "![](https://d1rwhvwstyk9gu.cloudfront.net/2018/01/expected-return-equation.jpg)"
      ]
    },
    {
      "cell_type": "code",
      "metadata": {
        "colab": {
          "base_uri": "https://localhost:8080/",
          "height": 237
        },
        "id": "Cfx7BY2PTKkt",
        "outputId": "1b4b2ea8-b043-4916-bc6d-9be22d6f8c33"
      },
      "source": [
        "px = np.random.rand(10)\n",
        "px = px/sum(px)\n",
        "print(\"Probabilities summing up to: \", sum(px))\n",
        "rx = np.random.rand(10)*12\n",
        "ri_list = px*rx\n",
        "print(\"Expected Return: \", round(sum(ri_list), 3), \"%\")\n",
        "df = pd.DataFrame({'Probability (px)': px, \"Probable Return (rx)\": rx, \"px*rx\": ri_list})\n",
        "df.head()"
      ],
      "execution_count": 2,
      "outputs": [
        {
          "output_type": "stream",
          "name": "stdout",
          "text": [
            "Probabilities summing up to:  1.0\n",
            "Expected Return:  4.981 %\n"
          ]
        },
        {
          "output_type": "execute_result",
          "data": {
            "text/html": [
              "<div>\n",
              "<style scoped>\n",
              "    .dataframe tbody tr th:only-of-type {\n",
              "        vertical-align: middle;\n",
              "    }\n",
              "\n",
              "    .dataframe tbody tr th {\n",
              "        vertical-align: top;\n",
              "    }\n",
              "\n",
              "    .dataframe thead th {\n",
              "        text-align: right;\n",
              "    }\n",
              "</style>\n",
              "<table border=\"1\" class=\"dataframe\">\n",
              "  <thead>\n",
              "    <tr style=\"text-align: right;\">\n",
              "      <th></th>\n",
              "      <th>Probability (px)</th>\n",
              "      <th>Probable Return (rx)</th>\n",
              "      <th>px*rx</th>\n",
              "    </tr>\n",
              "  </thead>\n",
              "  <tbody>\n",
              "    <tr>\n",
              "      <th>0</th>\n",
              "      <td>0.083114</td>\n",
              "      <td>3.252859</td>\n",
              "      <td>0.270359</td>\n",
              "    </tr>\n",
              "    <tr>\n",
              "      <th>1</th>\n",
              "      <td>0.107589</td>\n",
              "      <td>4.991793</td>\n",
              "      <td>0.537064</td>\n",
              "    </tr>\n",
              "    <tr>\n",
              "      <th>2</th>\n",
              "      <td>0.067839</td>\n",
              "      <td>2.918375</td>\n",
              "      <td>0.197979</td>\n",
              "    </tr>\n",
              "    <tr>\n",
              "      <th>3</th>\n",
              "      <td>0.003088</td>\n",
              "      <td>11.779836</td>\n",
              "      <td>0.036380</td>\n",
              "    </tr>\n",
              "    <tr>\n",
              "      <th>4</th>\n",
              "      <td>0.012801</td>\n",
              "      <td>0.536138</td>\n",
              "      <td>0.006863</td>\n",
              "    </tr>\n",
              "  </tbody>\n",
              "</table>\n",
              "</div>"
            ],
            "text/plain": [
              "   Probability (px)  Probable Return (rx)     px*rx\n",
              "0          0.083114              3.252859  0.270359\n",
              "1          0.107589              4.991793  0.537064\n",
              "2          0.067839              2.918375  0.197979\n",
              "3          0.003088             11.779836  0.036380\n",
              "4          0.012801              0.536138  0.006863"
            ]
          },
          "metadata": {},
          "execution_count": 2
        }
      ]
    },
    {
      "cell_type": "markdown",
      "metadata": {
        "id": "zNa64E5VTpI5"
      },
      "source": [
        "Risk (or variance) on a single stock\n",
        "\n",
        "![](https://d1rwhvwstyk9gu.cloudfront.net/2018/01/Variance-of-the-return-on-stock.jpg)"
      ]
    },
    {
      "cell_type": "code",
      "metadata": {
        "colab": {
          "base_uri": "https://localhost:8080/"
        },
        "id": "7aTBjQ-TTkRe",
        "outputId": "c22c4db4-bcd4-41d2-d801-7b01841a8d2a"
      },
      "source": [
        "ri = sum(ri_list)\n",
        "variance = sum(px*(rx-ri)**2)\n",
        "variance"
      ],
      "execution_count": 3,
      "outputs": [
        {
          "output_type": "execute_result",
          "data": {
            "text/plain": [
              "10.226466195592437"
            ]
          },
          "metadata": {},
          "execution_count": 3
        }
      ]
    },
    {
      "cell_type": "code",
      "metadata": {
        "colab": {
          "base_uri": "https://localhost:8080/"
        },
        "id": "tJGjP18TTnD0",
        "outputId": "17e2b78d-f4b4-4b6a-8346-5e06cd1acf2a"
      },
      "source": [
        "std = np.sqrt(variance)\n",
        "std"
      ],
      "execution_count": 4,
      "outputs": [
        {
          "output_type": "execute_result",
          "data": {
            "text/plain": [
              "3.1978846438845223"
            ]
          },
          "metadata": {},
          "execution_count": 4
        }
      ]
    },
    {
      "cell_type": "markdown",
      "metadata": {
        "id": "OiT7mu43TzqP"
      },
      "source": [
        "Expected return on an N-stock portfolio\n",
        "\n",
        "The expected return from ith stock is ri. The expected return on the portfolio will then be:\n",
        "\n",
        "![](https://d1rwhvwstyk9gu.cloudfront.net/2018/01/n-stock-portfolio.jpg)\n",
        "\n",
        "The weight of any stock is the ratio of the amount invested in that stock to the total amount invested."
      ]
    },
    {
      "cell_type": "code",
      "metadata": {
        "colab": {
          "base_uri": "https://localhost:8080/"
        },
        "id": "4EdoJLCtT0Jr",
        "outputId": "8db709fd-173d-47a2-f186-90a29f2f0e35"
      },
      "source": [
        "invested_amount = np.random.rand(10)*132\n",
        "weights = invested_amount/sum(invested_amount)\n",
        "print(\"Weights summing up toL \", sum(px))"
      ],
      "execution_count": 5,
      "outputs": [
        {
          "output_type": "stream",
          "name": "stdout",
          "text": [
            "Weights summing up toL  1.0\n"
          ]
        }
      ]
    },
    {
      "cell_type": "markdown",
      "metadata": {
        "id": "pWIZHd1MUD4K"
      },
      "source": [
        "## Portfolio Optimization Using Monte Carlo Simulation\n",
        "Reference Guide: https://blog.quantinsti.com/portfolio-optimization-maximum-return-risk-ratio-python/"
      ]
    },
    {
      "cell_type": "code",
      "metadata": {
        "colab": {
          "base_uri": "https://localhost:8080/"
        },
        "id": "XjUg6cK0Uml3",
        "outputId": "d0b4de0c-79db-4260-b723-c8647171052b"
      },
      "source": [
        "!pip install yahoofinancials\n",
        "!pip install fix_yahoo_finance\n",
        "!pip install yfinance"
      ],
      "execution_count": 11,
      "outputs": [
        {
          "output_type": "stream",
          "name": "stdout",
          "text": [
            "Requirement already satisfied: yahoofinancials in /usr/local/lib/python3.7/dist-packages (1.6)\n",
            "Requirement already satisfied: beautifulsoup4 in /usr/local/lib/python3.7/dist-packages (from yahoofinancials) (4.6.3)\n",
            "Requirement already satisfied: pytz in /usr/local/lib/python3.7/dist-packages (from yahoofinancials) (2018.9)\n",
            "Requirement already satisfied: fix_yahoo_finance in /usr/local/lib/python3.7/dist-packages (0.0.22)\n",
            "Requirement already satisfied: pandas in /usr/local/lib/python3.7/dist-packages (from fix_yahoo_finance) (1.1.5)\n",
            "Requirement already satisfied: requests in /usr/local/lib/python3.7/dist-packages (from fix_yahoo_finance) (2.23.0)\n",
            "Requirement already satisfied: multitasking in /usr/local/lib/python3.7/dist-packages (from fix_yahoo_finance) (0.0.9)\n",
            "Requirement already satisfied: numpy in /usr/local/lib/python3.7/dist-packages (from fix_yahoo_finance) (1.19.5)\n",
            "Requirement already satisfied: python-dateutil>=2.7.3 in /usr/local/lib/python3.7/dist-packages (from pandas->fix_yahoo_finance) (2.8.2)\n",
            "Requirement already satisfied: pytz>=2017.2 in /usr/local/lib/python3.7/dist-packages (from pandas->fix_yahoo_finance) (2018.9)\n",
            "Requirement already satisfied: six>=1.5 in /usr/local/lib/python3.7/dist-packages (from python-dateutil>=2.7.3->pandas->fix_yahoo_finance) (1.15.0)\n",
            "Requirement already satisfied: chardet<4,>=3.0.2 in /usr/local/lib/python3.7/dist-packages (from requests->fix_yahoo_finance) (3.0.4)\n",
            "Requirement already satisfied: idna<3,>=2.5 in /usr/local/lib/python3.7/dist-packages (from requests->fix_yahoo_finance) (2.10)\n",
            "Requirement already satisfied: certifi>=2017.4.17 in /usr/local/lib/python3.7/dist-packages (from requests->fix_yahoo_finance) (2021.5.30)\n",
            "Requirement already satisfied: urllib3!=1.25.0,!=1.25.1,<1.26,>=1.21.1 in /usr/local/lib/python3.7/dist-packages (from requests->fix_yahoo_finance) (1.24.3)\n",
            "Collecting yfinance\n",
            "  Downloading yfinance-0.1.63.tar.gz (26 kB)\n",
            "Requirement already satisfied: pandas>=0.24 in /usr/local/lib/python3.7/dist-packages (from yfinance) (1.1.5)\n",
            "Requirement already satisfied: numpy>=1.15 in /usr/local/lib/python3.7/dist-packages (from yfinance) (1.19.5)\n",
            "Requirement already satisfied: requests>=2.20 in /usr/local/lib/python3.7/dist-packages (from yfinance) (2.23.0)\n",
            "Requirement already satisfied: multitasking>=0.0.7 in /usr/local/lib/python3.7/dist-packages (from yfinance) (0.0.9)\n",
            "Collecting lxml>=4.5.1\n",
            "  Downloading lxml-4.6.3-cp37-cp37m-manylinux2014_x86_64.whl (6.3 MB)\n",
            "\u001b[K     |████████████████████████████████| 6.3 MB 19.6 MB/s \n",
            "\u001b[?25hRequirement already satisfied: pytz>=2017.2 in /usr/local/lib/python3.7/dist-packages (from pandas>=0.24->yfinance) (2018.9)\n",
            "Requirement already satisfied: python-dateutil>=2.7.3 in /usr/local/lib/python3.7/dist-packages (from pandas>=0.24->yfinance) (2.8.2)\n",
            "Requirement already satisfied: six>=1.5 in /usr/local/lib/python3.7/dist-packages (from python-dateutil>=2.7.3->pandas>=0.24->yfinance) (1.15.0)\n",
            "Requirement already satisfied: certifi>=2017.4.17 in /usr/local/lib/python3.7/dist-packages (from requests>=2.20->yfinance) (2021.5.30)\n",
            "Requirement already satisfied: idna<3,>=2.5 in /usr/local/lib/python3.7/dist-packages (from requests>=2.20->yfinance) (2.10)\n",
            "Requirement already satisfied: chardet<4,>=3.0.2 in /usr/local/lib/python3.7/dist-packages (from requests>=2.20->yfinance) (3.0.4)\n",
            "Requirement already satisfied: urllib3!=1.25.0,!=1.25.1,<1.26,>=1.21.1 in /usr/local/lib/python3.7/dist-packages (from requests>=2.20->yfinance) (1.24.3)\n",
            "Building wheels for collected packages: yfinance\n",
            "  Building wheel for yfinance (setup.py) ... \u001b[?25l\u001b[?25hdone\n",
            "  Created wheel for yfinance: filename=yfinance-0.1.63-py2.py3-none-any.whl size=23918 sha256=c846a27a5f27289250bb3b18dc40a175338c2dff480580764797d0dc2080cd13\n",
            "  Stored in directory: /root/.cache/pip/wheels/fe/87/8b/7ec24486e001d3926537f5f7801f57a74d181be25b11157983\n",
            "Successfully built yfinance\n",
            "Installing collected packages: lxml, yfinance\n",
            "  Attempting uninstall: lxml\n",
            "    Found existing installation: lxml 4.2.6\n",
            "    Uninstalling lxml-4.2.6:\n",
            "      Successfully uninstalled lxml-4.2.6\n",
            "Successfully installed lxml-4.6.3 yfinance-0.1.63\n"
          ]
        }
      ]
    },
    {
      "cell_type": "code",
      "metadata": {
        "colab": {
          "base_uri": "https://localhost:8080/"
        },
        "id": "OBEyN7KbXbIO",
        "outputId": "8f4e7fdf-47f8-4167-a8eb-a0328f7b9f22"
      },
      "source": [
        "!pip install pandas-datareader"
      ],
      "execution_count": 15,
      "outputs": [
        {
          "output_type": "stream",
          "name": "stdout",
          "text": [
            "Requirement already satisfied: pandas-datareader in /usr/local/lib/python3.7/dist-packages (0.9.0)\n",
            "Requirement already satisfied: lxml in /usr/local/lib/python3.7/dist-packages (from pandas-datareader) (4.6.3)\n",
            "Requirement already satisfied: requests>=2.19.0 in /usr/local/lib/python3.7/dist-packages (from pandas-datareader) (2.23.0)\n",
            "Requirement already satisfied: pandas>=0.23 in /usr/local/lib/python3.7/dist-packages (from pandas-datareader) (1.1.5)\n",
            "Requirement already satisfied: python-dateutil>=2.7.3 in /usr/local/lib/python3.7/dist-packages (from pandas>=0.23->pandas-datareader) (2.8.2)\n",
            "Requirement already satisfied: pytz>=2017.2 in /usr/local/lib/python3.7/dist-packages (from pandas>=0.23->pandas-datareader) (2018.9)\n",
            "Requirement already satisfied: numpy>=1.15.4 in /usr/local/lib/python3.7/dist-packages (from pandas>=0.23->pandas-datareader) (1.19.5)\n",
            "Requirement already satisfied: six>=1.5 in /usr/local/lib/python3.7/dist-packages (from python-dateutil>=2.7.3->pandas>=0.23->pandas-datareader) (1.15.0)\n",
            "Requirement already satisfied: certifi>=2017.4.17 in /usr/local/lib/python3.7/dist-packages (from requests>=2.19.0->pandas-datareader) (2021.5.30)\n",
            "Requirement already satisfied: idna<3,>=2.5 in /usr/local/lib/python3.7/dist-packages (from requests>=2.19.0->pandas-datareader) (2.10)\n",
            "Requirement already satisfied: urllib3!=1.25.0,!=1.25.1,<1.26,>=1.21.1 in /usr/local/lib/python3.7/dist-packages (from requests>=2.19.0->pandas-datareader) (1.24.3)\n",
            "Requirement already satisfied: chardet<4,>=3.0.2 in /usr/local/lib/python3.7/dist-packages (from requests>=2.19.0->pandas-datareader) (3.0.4)\n"
          ]
        }
      ]
    },
    {
      "cell_type": "code",
      "metadata": {
        "id": "XWzhWe5OX89h"
      },
      "source": [
        "# Fetch data from yahoo and save under DataFrame named 'data'\n",
        "stock = ['BAC', 'GS', 'JPM', 'MS']\n",
        "data = web.DataReader(stock, data_source=\"yahoo\",start='12/01/2019',end='12/31/2019')['Adj Close']\n",
        "# Arrange the data in ascending order\n",
        "data=data.iloc[::-1]\n",
        "data.round(2)"
      ],
      "execution_count": null,
      "outputs": []
    },
    {
      "cell_type": "code",
      "metadata": {
        "id": "TE2KR5NIUPf2"
      },
      "source": [
        "# Compute stock returns and print the returns in percentage format\n",
        "stock_ret = data.pct_change()\n",
        "stock_ret.round(4)*100"
      ],
      "execution_count": null,
      "outputs": []
    },
    {
      "cell_type": "code",
      "metadata": {
        "id": "X0qYhbZFUSY0"
      },
      "source": [
        "# Calculate mean returns and covariances of all four the stocks\n",
        "mean_returns = stock_ret.mean()\n",
        "cov_matrix = stock_ret.cov()"
      ],
      "execution_count": null,
      "outputs": []
    },
    {
      "cell_type": "code",
      "metadata": {
        "id": "lHpX-V2-UUr2"
      },
      "source": [
        "\n",
        "# Set the number of iterations to 10000 and define an array to hold \n",
        "# the simulation results; initially set to all zeros\n",
        "num_iterations = 10000\n",
        "simulation_res = np.zeros((4+len(stock)-1,num_iterations))\n",
        "\n",
        "for i in range(num_iterations):\n",
        "    # Select random weights and normalize to set the sum to 1\n",
        "    weights = np.array(np.random.random(4))\n",
        "    weights /= np.sum(weights)\n",
        "    # Calculate the return and standard deviation for every step\n",
        "    portfolio_return = np.sum(mean_returns * weights)\n",
        "    portfolio_std_dev = np.sqrt(np.dot(weights.T,np.dot(cov_matrix, weights)))\n",
        "    # Store all the results in a defined array\n",
        "    simulation_res[0,i] = portfolio_return\n",
        "    simulation_res[1,i] = portfolio_std_dev\n",
        "    # Store all the results in a defined array\n",
        "    simulation_res[0,i] = portfolio_return\n",
        "    simulation_res[1,i] = portfolio_std_dev\n",
        "    # Save the weights in the array\n",
        "    for j in range(len(weights)):\n",
        "        simulation_res[j+3,i] = weights[j]"
      ],
      "execution_count": null,
      "outputs": []
    },
    {
      "cell_type": "code",
      "metadata": {
        "id": "IfHadCVmUVme"
      },
      "source": [
        "sim_frame = pd.DataFrame(simulation_res.T,\n",
        "                         columns=['ret','stdev','sharpe',\n",
        "                                  stock[0],stock[1],stock[2],stock[3]])\n",
        "sim_frame.head(5)"
      ],
      "execution_count": null,
      "outputs": []
    },
    {
      "cell_type": "code",
      "metadata": {
        "id": "VGscoVkAUauJ"
      },
      "source": [
        "# Spot the position of the portfolio with highest Sharpe Ratio\n",
        "max_sharpe = sim_frame.iloc[sim_frame['sharpe'].idxmax()]\n",
        "# Spot the position of the portfolio with minimum Standard Deviation\n",
        "min_std = sim_frame.iloc[sim_frame['stdev'].idxmin()]\n",
        "print(\"The portfolio for max Sharpe Ratio:\\n\" + str(max_sharpe))\n",
        "print(\"The portfolio for min risk:\\n\" + str(min_std))"
      ],
      "execution_count": null,
      "outputs": []
    },
    {
      "cell_type": "code",
      "metadata": {
        "id": "PX_Yh54gUc1t"
      },
      "source": [
        "# Create a scatter plot coloured by various Sharpe Ratios with \n",
        "# standard deviation on the x-axis and returns on the y-axis\n",
        "plt.scatter(sim_frame.stdev,sim_frame.ret,c=sim_frame.sharpe,cmap='RdYlBu')\n",
        "# Plot a red star to highlight position of the portfolio with highest Sharpe Ratio\n",
        "plt.scatter(max_sharpe[1],max_sharpe[0],marker=(5,1,0),color='r',s=600)\n",
        "# Plot a blue star to highlight position of the portfolio with minimum Variance\n",
        "plt.scatter(min_std[1],min_std[0],marker=(5,1,0),color='b',s=600)\n",
        "plt.xlabel('Standard Deviation')\n",
        "plt.ylabel('Returns')\n",
        "plt.ylim(-0.003,0.0005)\n",
        "plt.xlim(0.008,0.012)\n",
        "plt.show()"
      ],
      "execution_count": null,
      "outputs": []
    }
  ]
}